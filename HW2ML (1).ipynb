{
  "nbformat": 4,
  "nbformat_minor": 0,
  "metadata": {
    "colab": {
      "name": "HW2ML.ipynb",
      "provenance": [],
      "collapsed_sections": []
    },
    "kernelspec": {
      "name": "python3",
      "display_name": "Python 3"
    },
    "language_info": {
      "name": "python"
    }
  },
  "cells": [
    {
      "cell_type": "code",
      "metadata": {
        "id": "zGbMkSpX0TV1",
        "colab": {
          "resources": {
            "http://localhost:8080/nbextensions/google.colab/files.js": {
              "data": "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",
              "ok": true,
              "headers": [
                [
                  "content-type",
                  "application/javascript"
                ]
              ],
              "status": 200,
              "status_text": ""
            }
          },
          "base_uri": "https://localhost:8080/",
          "height": 73
        },
        "outputId": "073ff4a0-f276-4768-db1c-64adaf03c78c"
      },
      "source": [
        "import pandas as pd\n",
        "import numpy as np\n",
        "import sklearn as sk\n",
        "from google.colab import files\n",
        "import io\n",
        "from sklearn.model_selection import train_test_split\n",
        "uploaded = files.upload()"
      ],
      "execution_count": null,
      "outputs": [
        {
          "output_type": "display_data",
          "data": {
            "text/html": [
              "\n",
              "     <input type=\"file\" id=\"files-7983e89e-23ca-4aed-abbf-43552fff5df9\" name=\"files[]\" multiple disabled\n",
              "        style=\"border:none\" />\n",
              "     <output id=\"result-7983e89e-23ca-4aed-abbf-43552fff5df9\">\n",
              "      Upload widget is only available when the cell has been executed in the\n",
              "      current browser session. Please rerun this cell to enable.\n",
              "      </output>\n",
              "      <script src=\"/nbextensions/google.colab/files.js\"></script> "
            ],
            "text/plain": [
              "<IPython.core.display.HTML object>"
            ]
          },
          "metadata": {}
        },
        {
          "output_type": "stream",
          "name": "stdout",
          "text": [
            "Saving index_prices - Copy.csv to index_prices - Copy (2).csv\n"
          ]
        }
      ]
    },
    {
      "cell_type": "code",
      "metadata": {
        "id": "n9oQNB3TbOcY"
      },
      "source": [
        "data = pd.read_csv(io.BytesIO(uploaded['index_prices - Copy.csv']))"
      ],
      "execution_count": null,
      "outputs": []
    },
    {
      "cell_type": "code",
      "metadata": {
        "colab": {
          "base_uri": "https://localhost:8080/"
        },
        "id": "2S6q9z7FfpxH",
        "outputId": "21ac1618-243f-4bab-f16f-3537d05c6db4"
      },
      "source": [
        "print(data.head())"
      ],
      "execution_count": null,
      "outputs": [
        {
          "output_type": "stream",
          "name": "stdout",
          "text": [
            "        Date         AGG         TLT  ...        EWW        EWY        EZU\n",
            "0  9/18/2017  109.860001  126.129997  ...  55.910000  69.839996  43.080002\n",
            "1  9/19/2017  109.800003  125.820000  ...  55.650002  70.070000  43.290001\n",
            "2  9/20/2017  109.709999  125.910004  ...  55.860001  69.699997  43.080002\n",
            "3  9/21/2017  109.690002  125.839996  ...  55.730000  69.690002  43.110001\n",
            "4  9/22/2017  109.769997  126.199997  ...  55.990002  69.330002  43.200001\n",
            "\n",
            "[5 rows x 19 columns]\n"
          ]
        }
      ]
    },
    {
      "cell_type": "markdown",
      "metadata": {
        "id": "DyAV0bh30Z0Y"
      },
      "source": [
        "**Question 1a.**"
      ]
    },
    {
      "cell_type": "code",
      "metadata": {
        "colab": {
          "base_uri": "https://localhost:8080/"
        },
        "id": "L8AnCPl5hNYC",
        "outputId": "99dc2df8-4611-42cc-a74f-2596ce46dff0"
      },
      "source": [
        "data_new = data[['Date', 'XLF']]\n",
        "\"percent_change = data_new.diff(axis=0, periods=1)\"\n",
        "data_new['Percent Change'] = data_new['XLF'].diff()\n",
        "data_new = data_new.loc[1:]\n",
        "\"Up = 1, Down = -1\"\n",
        "data_new['Up or Down?'] = data_new['Percent Change'].apply(lambda x: 1 if x > 0 else -1)\n",
        "print(data_new.head())"
      ],
      "execution_count": null,
      "outputs": [
        {
          "output_type": "stream",
          "name": "stdout",
          "text": [
            "        Date        XLF  Percent Change  Up or Down?\n",
            "1  9/19/2017  25.250000        0.190001            1\n",
            "2  9/20/2017  25.400000        0.150000            1\n",
            "3  9/21/2017  25.459999        0.059999            1\n",
            "4  9/22/2017  25.430000       -0.029999           -1\n",
            "5  9/25/2017  25.400000       -0.030000           -1\n"
          ]
        },
        {
          "output_type": "stream",
          "name": "stderr",
          "text": [
            "/usr/local/lib/python3.7/dist-packages/ipykernel_launcher.py:3: SettingWithCopyWarning: \n",
            "A value is trying to be set on a copy of a slice from a DataFrame.\n",
            "Try using .loc[row_indexer,col_indexer] = value instead\n",
            "\n",
            "See the caveats in the documentation: https://pandas.pydata.org/pandas-docs/stable/user_guide/indexing.html#returning-a-view-versus-a-copy\n",
            "  This is separate from the ipykernel package so we can avoid doing imports until\n"
          ]
        }
      ]
    },
    {
      "cell_type": "markdown",
      "metadata": {
        "id": "feUsRPKM0jLO"
      },
      "source": [
        "**Question 1b**"
      ]
    },
    {
      "cell_type": "code",
      "metadata": {
        "id": "wBBCvE88MUVO"
      },
      "source": [
        "X = data_new['XLF']\n",
        "y = data_new['Up or Down?']\n",
        "X_train, X_test, y_train, y_test = train_test_split(X, y, random_state=42, test_size = 0.9)\n",
        "\n"
      ],
      "execution_count": null,
      "outputs": []
    },
    {
      "cell_type": "markdown",
      "metadata": {
        "id": "rm0LGOLoNWam"
      },
      "source": [
        "We do not train on the whole data set and assess performance on the same set because that will cause overfitting."
      ]
    },
    {
      "cell_type": "code",
      "metadata": {
        "colab": {
          "base_uri": "https://localhost:8080/"
        },
        "id": "BbQ6Ku4pNuSV",
        "outputId": "5c62eacb-9afe-4f04-8d82-2808c8f01d5f"
      },
      "source": [
        "from sklearn.ensemble import RandomForestClassifier\n",
        "forest_model = RandomForestClassifier(n_estimators=50)\n",
        "x_train_reshape = X_train.values.reshape(-1, 1)\n",
        "y_train_reshape = y_train.values.reshape(-1, 1)\n",
        "forest_model.fit(x_train_reshape, y_train_reshape)\n",
        "y_pred = forest_model.predict(x_test_reshape)"
      ],
      "execution_count": null,
      "outputs": [
        {
          "output_type": "stream",
          "name": "stderr",
          "text": [
            "/usr/local/lib/python3.7/dist-packages/ipykernel_launcher.py:5: DataConversionWarning: A column-vector y was passed when a 1d array was expected. Please change the shape of y to (n_samples,), for example using ravel().\n",
            "  \"\"\"\n"
          ]
        }
      ]
    },
    {
      "cell_type": "code",
      "metadata": {
        "id": "dcAppIvXXMYi"
      },
      "source": [
        "from sklearn.metrics import f1_score\n",
        "from sklearn.metrics import precision_score\n",
        "from sklearn.metrics import recall_score\n",
        "from sklearn.metrics import accuracy_score\n"
      ],
      "execution_count": null,
      "outputs": []
    },
    {
      "cell_type": "code",
      "metadata": {
        "colab": {
          "base_uri": "https://localhost:8080/"
        },
        "id": "jAubwYs8kmha",
        "outputId": "a9904fdf-5ce6-4b9f-d76b-e6282d0c46ab"
      },
      "source": [
        "\"\"\"print(y_test.values.reshape(-1, 1))\n",
        "print(\"-------------\")\n",
        "print(y_pred.reshape(-1, 1))\"\"\"\n",
        "y_test_reshape = y_test.values.reshape(-1, 1)\n",
        "y_pred_reshape = y_pred.reshape(-1, 1)\n",
        "test_acc = accuracy_score(y_test_reshape, y_pred_reshape)\n",
        "test_prec = precision_score(y_test_reshape, y_pred_reshape)\n",
        "test_rec = recall_score(y_test_reshape, y_pred_reshape)\n",
        "test_f1 = f1_score(y_test_reshape, y_pred_reshape)\n",
        "print(test_acc)\n",
        "print(test_prec)\n",
        "print(test_rec)\n",
        "print(test_f1)"
      ],
      "execution_count": null,
      "outputs": [
        {
          "output_type": "stream",
          "name": "stdout",
          "text": [
            "0.4611973392461197\n",
            "0.0\n",
            "0.0\n",
            "0.0\n"
          ]
        },
        {
          "output_type": "stream",
          "name": "stderr",
          "text": [
            "/usr/local/lib/python3.7/dist-packages/sklearn/metrics/_classification.py:1272: UndefinedMetricWarning: Precision is ill-defined and being set to 0.0 due to no predicted samples. Use `zero_division` parameter to control this behavior.\n",
            "  _warn_prf(average, modifier, msg_start, len(result))\n"
          ]
        }
      ]
    },
    {
      "cell_type": "markdown",
      "metadata": {
        "id": "yU79BGcJ0okw"
      },
      "source": [
        "**Question 1c**"
      ]
    },
    {
      "cell_type": "code",
      "metadata": {
        "colab": {
          "base_uri": "https://localhost:8080/"
        },
        "id": "O61s7AYOs69v",
        "outputId": "d8157561-84d8-4af7-fec9-dfd84839dbaf"
      },
      "source": [
        "from sklearn.model_selection import GridSearchCV\n",
        "\n",
        "grid_search = GridSearchCV(estimator=forest_model, param_grid={'n_estimators': [5,10,50,100,300]}, scoring='accuracy')\n",
        "grid_search.fit(x_train_reshape, y_train_reshape)\n",
        "grid_search.best_estimator_\n"
      ],
      "execution_count": null,
      "outputs": [
        {
          "output_type": "stream",
          "name": "stderr",
          "text": [
            "/usr/local/lib/python3.7/dist-packages/sklearn/model_selection/_validation.py:515: DataConversionWarning: A column-vector y was passed when a 1d array was expected. Please change the shape of y to (n_samples,), for example using ravel().\n",
            "  estimator.fit(X_train, y_train, **fit_params)\n",
            "/usr/local/lib/python3.7/dist-packages/sklearn/model_selection/_validation.py:515: DataConversionWarning: A column-vector y was passed when a 1d array was expected. Please change the shape of y to (n_samples,), for example using ravel().\n",
            "  estimator.fit(X_train, y_train, **fit_params)\n",
            "/usr/local/lib/python3.7/dist-packages/sklearn/model_selection/_validation.py:515: DataConversionWarning: A column-vector y was passed when a 1d array was expected. Please change the shape of y to (n_samples,), for example using ravel().\n",
            "  estimator.fit(X_train, y_train, **fit_params)\n",
            "/usr/local/lib/python3.7/dist-packages/sklearn/model_selection/_validation.py:515: DataConversionWarning: A column-vector y was passed when a 1d array was expected. Please change the shape of y to (n_samples,), for example using ravel().\n",
            "  estimator.fit(X_train, y_train, **fit_params)\n",
            "/usr/local/lib/python3.7/dist-packages/sklearn/model_selection/_validation.py:515: DataConversionWarning: A column-vector y was passed when a 1d array was expected. Please change the shape of y to (n_samples,), for example using ravel().\n",
            "  estimator.fit(X_train, y_train, **fit_params)\n",
            "/usr/local/lib/python3.7/dist-packages/sklearn/model_selection/_validation.py:515: DataConversionWarning: A column-vector y was passed when a 1d array was expected. Please change the shape of y to (n_samples,), for example using ravel().\n",
            "  estimator.fit(X_train, y_train, **fit_params)\n",
            "/usr/local/lib/python3.7/dist-packages/sklearn/model_selection/_validation.py:515: DataConversionWarning: A column-vector y was passed when a 1d array was expected. Please change the shape of y to (n_samples,), for example using ravel().\n",
            "  estimator.fit(X_train, y_train, **fit_params)\n",
            "/usr/local/lib/python3.7/dist-packages/sklearn/model_selection/_validation.py:515: DataConversionWarning: A column-vector y was passed when a 1d array was expected. Please change the shape of y to (n_samples,), for example using ravel().\n",
            "  estimator.fit(X_train, y_train, **fit_params)\n",
            "/usr/local/lib/python3.7/dist-packages/sklearn/model_selection/_validation.py:515: DataConversionWarning: A column-vector y was passed when a 1d array was expected. Please change the shape of y to (n_samples,), for example using ravel().\n",
            "  estimator.fit(X_train, y_train, **fit_params)\n",
            "/usr/local/lib/python3.7/dist-packages/sklearn/model_selection/_validation.py:515: DataConversionWarning: A column-vector y was passed when a 1d array was expected. Please change the shape of y to (n_samples,), for example using ravel().\n",
            "  estimator.fit(X_train, y_train, **fit_params)\n",
            "/usr/local/lib/python3.7/dist-packages/sklearn/model_selection/_validation.py:515: DataConversionWarning: A column-vector y was passed when a 1d array was expected. Please change the shape of y to (n_samples,), for example using ravel().\n",
            "  estimator.fit(X_train, y_train, **fit_params)\n",
            "/usr/local/lib/python3.7/dist-packages/sklearn/model_selection/_validation.py:515: DataConversionWarning: A column-vector y was passed when a 1d array was expected. Please change the shape of y to (n_samples,), for example using ravel().\n",
            "  estimator.fit(X_train, y_train, **fit_params)\n",
            "/usr/local/lib/python3.7/dist-packages/sklearn/model_selection/_validation.py:515: DataConversionWarning: A column-vector y was passed when a 1d array was expected. Please change the shape of y to (n_samples,), for example using ravel().\n",
            "  estimator.fit(X_train, y_train, **fit_params)\n",
            "/usr/local/lib/python3.7/dist-packages/sklearn/model_selection/_validation.py:515: DataConversionWarning: A column-vector y was passed when a 1d array was expected. Please change the shape of y to (n_samples,), for example using ravel().\n",
            "  estimator.fit(X_train, y_train, **fit_params)\n",
            "/usr/local/lib/python3.7/dist-packages/sklearn/model_selection/_validation.py:515: DataConversionWarning: A column-vector y was passed when a 1d array was expected. Please change the shape of y to (n_samples,), for example using ravel().\n",
            "  estimator.fit(X_train, y_train, **fit_params)\n",
            "/usr/local/lib/python3.7/dist-packages/sklearn/model_selection/_validation.py:515: DataConversionWarning: A column-vector y was passed when a 1d array was expected. Please change the shape of y to (n_samples,), for example using ravel().\n",
            "  estimator.fit(X_train, y_train, **fit_params)\n",
            "/usr/local/lib/python3.7/dist-packages/sklearn/model_selection/_validation.py:515: DataConversionWarning: A column-vector y was passed when a 1d array was expected. Please change the shape of y to (n_samples,), for example using ravel().\n",
            "  estimator.fit(X_train, y_train, **fit_params)\n",
            "/usr/local/lib/python3.7/dist-packages/sklearn/model_selection/_validation.py:515: DataConversionWarning: A column-vector y was passed when a 1d array was expected. Please change the shape of y to (n_samples,), for example using ravel().\n",
            "  estimator.fit(X_train, y_train, **fit_params)\n",
            "/usr/local/lib/python3.7/dist-packages/sklearn/model_selection/_validation.py:515: DataConversionWarning: A column-vector y was passed when a 1d array was expected. Please change the shape of y to (n_samples,), for example using ravel().\n",
            "  estimator.fit(X_train, y_train, **fit_params)\n",
            "/usr/local/lib/python3.7/dist-packages/sklearn/model_selection/_validation.py:515: DataConversionWarning: A column-vector y was passed when a 1d array was expected. Please change the shape of y to (n_samples,), for example using ravel().\n",
            "  estimator.fit(X_train, y_train, **fit_params)\n",
            "/usr/local/lib/python3.7/dist-packages/sklearn/model_selection/_validation.py:515: DataConversionWarning: A column-vector y was passed when a 1d array was expected. Please change the shape of y to (n_samples,), for example using ravel().\n",
            "  estimator.fit(X_train, y_train, **fit_params)\n",
            "/usr/local/lib/python3.7/dist-packages/sklearn/model_selection/_validation.py:515: DataConversionWarning: A column-vector y was passed when a 1d array was expected. Please change the shape of y to (n_samples,), for example using ravel().\n",
            "  estimator.fit(X_train, y_train, **fit_params)\n",
            "/usr/local/lib/python3.7/dist-packages/sklearn/model_selection/_validation.py:515: DataConversionWarning: A column-vector y was passed when a 1d array was expected. Please change the shape of y to (n_samples,), for example using ravel().\n",
            "  estimator.fit(X_train, y_train, **fit_params)\n",
            "/usr/local/lib/python3.7/dist-packages/sklearn/model_selection/_validation.py:515: DataConversionWarning: A column-vector y was passed when a 1d array was expected. Please change the shape of y to (n_samples,), for example using ravel().\n",
            "  estimator.fit(X_train, y_train, **fit_params)\n",
            "/usr/local/lib/python3.7/dist-packages/sklearn/model_selection/_validation.py:515: DataConversionWarning: A column-vector y was passed when a 1d array was expected. Please change the shape of y to (n_samples,), for example using ravel().\n",
            "  estimator.fit(X_train, y_train, **fit_params)\n",
            "/usr/local/lib/python3.7/dist-packages/sklearn/model_selection/_search.py:739: DataConversionWarning: A column-vector y was passed when a 1d array was expected. Please change the shape of y to (n_samples,), for example using ravel().\n",
            "  self.best_estimator_.fit(X, y, **fit_params)\n"
          ]
        },
        {
          "output_type": "execute_result",
          "data": {
            "text/plain": [
              "RandomForestClassifier(bootstrap=True, ccp_alpha=0.0, class_weight=None,\n",
              "                       criterion='gini', max_depth=None, max_features='auto',\n",
              "                       max_leaf_nodes=None, max_samples=None,\n",
              "                       min_impurity_decrease=0.0, min_impurity_split=None,\n",
              "                       min_samples_leaf=1, min_samples_split=2,\n",
              "                       min_weight_fraction_leaf=0.0, n_estimators=50,\n",
              "                       n_jobs=None, oob_score=False, random_state=None,\n",
              "                       verbose=0, warm_start=False)"
            ]
          },
          "metadata": {},
          "execution_count": 232
        }
      ]
    },
    {
      "cell_type": "markdown",
      "metadata": {
        "id": "0gP_rBehz8iY"
      },
      "source": [
        "Random forest leverages the power of multiple decision trees. It does not rely on the feature importance given by a single decision tree."
      ]
    },
    {
      "cell_type": "code",
      "metadata": {
        "colab": {
          "base_uri": "https://localhost:8080/"
        },
        "id": "ybNEWeUpyLGz",
        "outputId": "a64e220b-86e1-48b3-f86d-a8fd31a25a73"
      },
      "source": [
        "grid_search.cv_results_"
      ],
      "execution_count": null,
      "outputs": [
        {
          "output_type": "execute_result",
          "data": {
            "text/plain": [
              "{'mean_fit_time': array([0.00936456, 0.01570072, 0.07387304, 0.14042158, 0.4020503 ]),\n",
              " 'mean_score_time': array([0.00114241, 0.00177283, 0.00459514, 0.00947299, 0.02745714]),\n",
              " 'mean_test_score': array([0.44, 0.38, 0.44, 0.44, 0.44]),\n",
              " 'param_n_estimators': masked_array(data=[5, 10, 50, 100, 300],\n",
              "              mask=[False, False, False, False, False],\n",
              "        fill_value='?',\n",
              "             dtype=object),\n",
              " 'params': [{'n_estimators': 5},\n",
              "  {'n_estimators': 10},\n",
              "  {'n_estimators': 50},\n",
              "  {'n_estimators': 100},\n",
              "  {'n_estimators': 300}],\n",
              " 'rank_test_score': array([1, 5, 1, 1, 1], dtype=int32),\n",
              " 'split0_test_score': array([0.5, 0.5, 0.6, 0.6, 0.6]),\n",
              " 'split1_test_score': array([0.5, 0.5, 0.5, 0.5, 0.5]),\n",
              " 'split2_test_score': array([0.3, 0.4, 0.3, 0.3, 0.3]),\n",
              " 'split3_test_score': array([0.4, 0.2, 0.4, 0.4, 0.4]),\n",
              " 'split4_test_score': array([0.5, 0.3, 0.4, 0.4, 0.4]),\n",
              " 'std_fit_time': array([0.00119782, 0.0008798 , 0.00534808, 0.00617985, 0.00744678]),\n",
              " 'std_score_time': array([4.69759872e-05, 2.08486784e-04, 2.68930983e-04, 1.99966751e-03,\n",
              "        6.05213579e-03]),\n",
              " 'std_test_score': array([0.08      , 0.11661904, 0.10198039, 0.10198039, 0.10198039])}"
            ]
          },
          "metadata": {},
          "execution_count": 231
        }
      ]
    },
    {
      "cell_type": "markdown",
      "metadata": {
        "id": "_6UyQg_fyt8x"
      },
      "source": [
        "The mean_test_score that sklearn returns is the mean calculated on all samples where each sample has the same weight.\n",
        "The std_test_score is the deviation of the test scores from the mean test scores. If we see a large std_test_score, we are less likely to trust the output.\n",
        "\n"
      ]
    },
    {
      "cell_type": "markdown",
      "metadata": {
        "id": "wMj1Bxlr0xT5"
      },
      "source": [
        "**Question 2**"
      ]
    },
    {
      "cell_type": "markdown",
      "metadata": {
        "id": "UiZhrIywFhtc"
      },
      "source": [
        "![image.png](data:image/png;base64,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)"
      ]
    },
    {
      "cell_type": "code",
      "metadata": {
        "colab": {
          "base_uri": "https://localhost:8080/"
        },
        "id": "P9UozLdiIsCD",
        "outputId": "0a25a676-c0ab-4ca0-8d50-f32214d56d7e"
      },
      "source": [
        "def test_preciison(true_pos, false_pos):\n",
        "  return (true_pos / (true_pos + false_pos))\n",
        "precision = test_preciison(99, 1998)\n",
        "print(precision)"
      ],
      "execution_count": null,
      "outputs": [
        {
          "output_type": "stream",
          "name": "stdout",
          "text": [
            "0.04721030042918455\n"
          ]
        }
      ]
    },
    {
      "cell_type": "code",
      "metadata": {
        "colab": {
          "base_uri": "https://localhost:8080/"
        },
        "id": "HC15mkJEJwHU",
        "outputId": "25b054c6-5bda-475a-c46f-f053bafef13e"
      },
      "source": [
        "def test_recall(true_pos, false_neg):\n",
        "  return (true_pos / (true_pos + false_neg))\n",
        "recall = test_recall(99, 1)\n",
        "print(recall)"
      ],
      "execution_count": null,
      "outputs": [
        {
          "output_type": "stream",
          "name": "stdout",
          "text": [
            "0.99\n"
          ]
        }
      ]
    },
    {
      "cell_type": "code",
      "metadata": {
        "colab": {
          "base_uri": "https://localhost:8080/"
        },
        "id": "zU6C1cG8KsiV",
        "outputId": "8241758f-6e96-4034-f660-abd844b77944"
      },
      "source": [
        "\"f_measure calculates test_accuracy\"\n",
        "def f_measure(prec, rec):\n",
        "  return (2 * prec * rec) / (prec + rec)\n",
        "f_measure = f_measure(precision, recall)\n",
        "print(f_measure)"
      ],
      "execution_count": null,
      "outputs": [
        {
          "output_type": "stream",
          "name": "stdout",
          "text": [
            "0.09012289485662267\n"
          ]
        }
      ]
    }
  ]
}